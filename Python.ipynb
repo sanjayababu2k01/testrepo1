{
 "cells": [
  {
   "cell_type": "markdown",
   "id": "3c5211e3-5c69-4c4a-9eda-0666039e0378",
   "metadata": {},
   "source": [
    "                                    Python Master class"
   ]
  },
  {
   "cell_type": "code",
   "execution_count": 1,
   "id": "e495c3e6-4296-4df5-a173-62e3c5f6ec94",
   "metadata": {},
   "outputs": [],
   "source": [
    "n = 1"
   ]
  },
  {
   "cell_type": "code",
   "execution_count": 2,
   "id": "21f76486-bcec-4654-9e0c-cf2e733b01a8",
   "metadata": {},
   "outputs": [
    {
     "name": "stdout",
     "output_type": "stream",
     "text": [
      "If is not in if block\n"
     ]
    }
   ],
   "source": [
    "if n>=5:\n",
    "    print(\"If is in if block\")\n",
    "else:\n",
    "    print(\"If is not in if block\")"
   ]
  },
  {
   "cell_type": "markdown",
   "id": "9cba16a3-3f0c-4a50-bfec-a5a05b0ab4d2",
   "metadata": {},
   "source": [
    "                                    Variables"
   ]
  },
  {
   "cell_type": "code",
   "execution_count": 3,
   "id": "dea8f180-cd7d-4a4c-9d0b-917195e1c69e",
   "metadata": {},
   "outputs": [
    {
     "name": "stdout",
     "output_type": "stream",
     "text": [
      "20\n"
     ]
    }
   ],
   "source": [
    "x=20\n",
    "print(x)"
   ]
  },
  {
   "cell_type": "markdown",
   "id": "2c96652e-dd61-4fe6-a1e4-ff46d7497238",
   "metadata": {},
   "source": [
    "                                    Data types"
   ]
  },
  {
   "cell_type": "code",
   "execution_count": 4,
   "id": "8fd2c7d8-e3e4-4a30-acfd-c7471d62e482",
   "metadata": {},
   "outputs": [
    {
     "name": "stdout",
     "output_type": "stream",
     "text": [
      "50 <class 'int'>\n"
     ]
    }
   ],
   "source": [
    "#integer data type\n",
    "x=30\n",
    "y=20\n",
    "print(x+y,type(x))"
   ]
  },
  {
   "cell_type": "code",
   "execution_count": 5,
   "id": "133b44cd-03bb-40dc-bce1-2a3473454cee",
   "metadata": {},
   "outputs": [
    {
     "name": "stdout",
     "output_type": "stream",
     "text": [
      "11 <class 'str'>\n"
     ]
    }
   ],
   "source": [
    "#string data type\n",
    "x='1'\n",
    "y='1'\n",
    "print(x+y,type(x))"
   ]
  },
  {
   "cell_type": "code",
   "execution_count": 6,
   "id": "458109a4-2829-4ed9-9ace-73d0cf076b92",
   "metadata": {},
   "outputs": [
    {
     "name": "stdout",
     "output_type": "stream",
     "text": [
      "14.6 <class 'float'>\n"
     ]
    }
   ],
   "source": [
    "#float data type\n",
    "x=10.7\n",
    "y=3.9\n",
    "print(x+y,type(x))"
   ]
  },
  {
   "cell_type": "code",
   "execution_count": 7,
   "id": "915ee013-9958-4f22-b93f-f9874495a85d",
   "metadata": {},
   "outputs": [
    {
     "name": "stdout",
     "output_type": "stream",
     "text": [
      "None <class 'NoneType'>\n"
     ]
    }
   ],
   "source": [
    "#None type\n",
    "a=None\n",
    "print(a,type(a))"
   ]
  },
  {
   "cell_type": "markdown",
   "id": "e97958a2-3c23-48f3-ac0a-08f51ae1a751",
   "metadata": {},
   "source": [
    "                            Variable scope"
   ]
  },
  {
   "cell_type": "code",
   "execution_count": 8,
   "id": "e2d5ad5b-93e1-48c2-b6f0-08609dee81ec",
   "metadata": {},
   "outputs": [
    {
     "name": "stdout",
     "output_type": "stream",
     "text": [
      "Your oredr is:  Curd rice\n"
     ]
    }
   ],
   "source": [
    "#L--> E --> G --> B\n",
    "def order():\n",
    "    food=\"Curd rice\"\n",
    "    print(\"Your oredr is: \",food)\n",
    "order()\n"
   ]
  },
  {
   "cell_type": "markdown",
   "id": "05f361cc-dc85-4b51-94e1-7cb623d60fa9",
   "metadata": {},
   "source": [
    "                                    Nested fuction"
   ]
  },
  {
   "cell_type": "code",
   "execution_count": 9,
   "id": "c11154db-7942-4ae7-9df6-535222ee94ac",
   "metadata": {},
   "outputs": [
    {
     "name": "stdout",
     "output_type": "stream",
     "text": [
      "Applaying the disscount: 10\n"
     ]
    }
   ],
   "source": [
    "#Enclosing concept we are accessing the one finction var i another nestes function this is called eclosing\n",
    "def card():\n",
    "    diss=10\n",
    "\n",
    "    def checkout():\n",
    "        print(\"Applaying the disscount:\", diss)\n",
    "    checkout()\n",
    "card()"
   ]
  },
  {
   "cell_type": "markdown",
   "id": "0d76a496-625a-4961-a6de-b240ca36bad8",
   "metadata": {},
   "source": [
    "GLOBAL AND LOCAL VARIABLE"
   ]
  },
  {
   "cell_type": "code",
   "execution_count": 10,
   "id": "39f7f9ce-8201-4d39-b7f5-b85bdbbe00e8",
   "metadata": {},
   "outputs": [
    {
     "name": "stdout",
     "output_type": "stream",
     "text": [
      "Welcome to homepage: sanjaya@123\n",
      "Welcome to your profile page:  sanjaya@123\n"
     ]
    }
   ],
   "source": [
    "#Global variable\n",
    "user_id=\"sanjaya@123\"\n",
    "\n",
    "def homepage():\n",
    "    print(\"Welcome to homepage:\",user_id)\n",
    "\n",
    "def profile():\n",
    "    print(\"Welcome to your profile page: \",user_id)\n",
    "homepage()\n",
    "profile()"
   ]
  },
  {
   "cell_type": "markdown",
   "id": "7cc22dd3-5ff2-458f-91aa-80cebce3f11b",
   "metadata": {},
   "source": [
    "LOCAL VARIABLE"
   ]
  },
  {
   "cell_type": "code",
   "execution_count": 11,
   "id": "c66adbc0-c36c-490a-8ffb-2dd49af25452",
   "metadata": {},
   "outputs": [
    {
     "name": "stdout",
     "output_type": "stream",
     "text": [
      "Welcome to homepage: sanjaya@12321\n"
     ]
    }
   ],
   "source": [
    "#We can't access the variable outside the function\n",
    "def homepage():\n",
    "    user_id=\"sanjaya@12321\"\n",
    "    print(\"Welcome to homepage:\",user_id)\n",
    "homepage()"
   ]
  },
  {
   "cell_type": "markdown",
   "id": "5a05676f-3283-4711-90e9-7e5c24f5a9a4",
   "metadata": {},
   "source": [
    "TYPE CONVERSION OR TYPE CASTING"
   ]
  },
  {
   "cell_type": "code",
   "execution_count": 12,
   "id": "088cb1c1-22fc-4452-a589-86a612a3d72e",
   "metadata": {},
   "outputs": [
    {
     "name": "stdout",
     "output_type": "stream",
     "text": [
      "24\n"
     ]
    }
   ],
   "source": [
    "a=12 # intger type by default\n",
    "b='12'# string by default\n",
    "a=int(a) # type casting\n",
    "b=int(b) # type casting\n",
    "print(a+b)"
   ]
  },
  {
   "cell_type": "markdown",
   "id": "9fb263d1-6caf-4755-9558-eb701427c4c3",
   "metadata": {},
   "source": [
    "OPERATORS AND MODULO AND EXPRESSION"
   ]
  },
  {
   "cell_type": "code",
   "execution_count": 13,
   "id": "15197288-0bba-4f3f-a3e0-bf0c6da35c43",
   "metadata": {},
   "outputs": [
    {
     "name": "stdout",
     "output_type": "stream",
     "text": [
      "13\n",
      "7\n",
      "30\n",
      "3.3333333333333335\n",
      "3\n",
      "1000\n",
      "1\n"
     ]
    }
   ],
   "source": [
    "a=10\n",
    "b=3\n",
    "\n",
    "print(a+b) # addition\n",
    "print(a-b) # subtraction\n",
    "print(a*b) # multiplication\n",
    "print(a/b) # division\n",
    "print(a//b) # floor division\n",
    "print(a**b) # power\n",
    "print(a%b) # modulo division returns the reminder\n"
   ]
  },
  {
   "cell_type": "markdown",
   "id": "5c41eb66-cc3e-468a-bd44-e3f27da2f475",
   "metadata": {},
   "source": [
    "COMPARISON "
   ]
  },
  {
   "cell_type": "code",
   "execution_count": 14,
   "id": "645e0579-b457-4d93-af2a-31cc427b0ccc",
   "metadata": {},
   "outputs": [
    {
     "name": "stdout",
     "output_type": "stream",
     "text": [
      "False\n",
      "True\n",
      "False\n",
      "True\n"
     ]
    }
   ],
   "source": [
    "x = 12\n",
    "y = 34\n",
    "print(x == y) # equal to \n",
    "print(x != y) # not equal to\n",
    "print(x > y)  # x is greater than y\n",
    "print(x < y)  # x is lessor than y"
   ]
  },
  {
   "cell_type": "markdown",
   "id": "7e4c946f-e17c-4257-85d0-ff1be3a70f8c",
   "metadata": {},
   "source": [
    "LOGICAL"
   ]
  },
  {
   "cell_type": "code",
   "execution_count": 15,
   "id": "11a04ff7-f0ec-40e0-a4e9-feb80126a74d",
   "metadata": {},
   "outputs": [
    {
     "name": "stdout",
     "output_type": "stream",
     "text": [
      "False\n",
      "True\n",
      "False\n",
      "True\n"
     ]
    }
   ],
   "source": [
    "g=True\n",
    "v=False\n",
    "print(g and v) # Logical AND\n",
    "print(g or v) # Logical OR\n",
    "print(not g) # Logical NOT\n",
    "print(not v) # Logical NOT"
   ]
  },
  {
   "cell_type": "code",
   "execution_count": 16,
   "id": "4de23b0e-98dd-4074-951f-06a45cf36e9c",
   "metadata": {},
   "outputs": [
    {
     "name": "stdout",
     "output_type": "stream",
     "text": [
      "Actual price 1416.0\n",
      "discount price 1274.4\n"
     ]
    }
   ],
   "source": [
    "#Tax and discount using operators and expressions\n",
    "amount  = 1200\n",
    "tax = amount *0.18\n",
    "total = amount + tax\n",
    "print(\"Actual price\",total)\n",
    "if total >= 1000:\n",
    "    discount = total * 0.10\n",
    "    total -= discount\n",
    "print(\"discount price\",total)\n",
    "    "
   ]
  },
  {
   "cell_type": "code",
   "execution_count": 17,
   "id": "62d2845d-abc0-4fa9-a146-98e122387ab2",
   "metadata": {},
   "outputs": [
    {
     "name": "stdout",
     "output_type": "stream",
     "text": [
      "Yes discount\n"
     ]
    }
   ],
   "source": [
    "#Discount validation using Logical operators\n",
    "age=65\n",
    "student=\"yes\"\n",
    "if age >= 60 or student==\"yes\": # Used Logical OR\n",
    "    print(\"Yes discount\")\n",
    "else:\n",
    "    print(\"No discount\")"
   ]
  },
  {
   "cell_type": "markdown",
   "id": "5145cb37-83bb-4d37-9566-15c02ab70d79",
   "metadata": {},
   "source": [
    "INPUT IN PYTHON"
   ]
  },
  {
   "cell_type": "code",
   "execution_count": 18,
   "id": "177f54a4-382b-4292-bc79-0361b8c9ab52",
   "metadata": {},
   "outputs": [
    {
     "name": "stdin",
     "output_type": "stream",
     "text": [
      "Enter number one 5\n",
      "Enter number two 8\n"
     ]
    },
    {
     "name": "stdout",
     "output_type": "stream",
     "text": [
      "58\n"
     ]
    }
   ],
   "source": [
    "# The input function by default it take all input as string\n",
    "a = input(\"Enter number one\")\n",
    "b = input(\"Enter number two\")\n",
    "print(a+b) # So here string concatination will done"
   ]
  },
  {
   "cell_type": "code",
   "execution_count": 22,
   "id": "befb1aa2-5308-4b14-81d3-d78dee75be16",
   "metadata": {},
   "outputs": [
    {
     "name": "stdin",
     "output_type": "stream",
     "text": [
      "Enter number one 4\n",
      "Enter number two 5\n"
     ]
    },
    {
     "name": "stdout",
     "output_type": "stream",
     "text": [
      "9\n"
     ]
    }
   ],
   "source": [
    "# The input function by default it take all input as string\n",
    "# You can covert the type input function like int(input(--your message--))\n",
    "a = int(input(\"Enter number one\"))\n",
    "b = int(input(\"Enter number two\"))\n",
    "print(a+b)"
   ]
  },
  {
   "cell_type": "code",
   "execution_count": 19,
   "id": "bf665d98-8c2b-43a3-b22e-a72760ef02d1",
   "metadata": {},
   "outputs": [
    {
     "name": "stdout",
     "output_type": "stream",
     "text": [
      "\n",
      "--- Your Profile ----\n",
      "Full Name: -f\n",
      "Generated Email: -f@company.com\n"
     ]
    }
   ],
   "source": [
    "import sys\n",
    "\n",
    "full_name = sys.argv[1]\n",
    "\n",
    "# Format the name\n",
    "email = full_name.lower().replace(\" \", \".\") + \"@company.com\"\n",
    "\n",
    "# output\n",
    "print(\"\\n--- Your Profile ----\")\n",
    "print(\"Full Name:\", full_name)\n",
    "print(\"Generated Email:\", email)\n"
   ]
  },
  {
   "cell_type": "markdown",
   "id": "ca958dd1-87d4-4b65-a5ad-45c95f48d6e4",
   "metadata": {},
   "source": [
    "STRING HANDLING OR STRING MANIPULATION"
   ]
  },
  {
   "cell_type": "code",
   "execution_count": 20,
   "id": "cbf2ec12-896b-4bbd-9a6d-8c3ff4ee77fe",
   "metadata": {},
   "outputs": [
    {
     "name": "stdout",
     "output_type": "stream",
     "text": [
      "sanjaya\n",
      "SANJAYA\n",
      "Sanjaya\n",
      "sanjaya\n",
      "80\n",
      "13\n"
     ]
    }
   ],
   "source": [
    "# Uber example\n",
    "driver_name = \"SanJaya\"\n",
    "\n",
    "print(driver_name.lower())\n",
    "print(driver_name.upper())\n",
    "print(driver_name.capitalize())\n",
    "print(driver_name.casefold())\n",
    "\n",
    "# mobile\n",
    "mobile = \"8088558813\"\n",
    "masked = mobile[:2] # index slicing from first or from left to right\n",
    "print(masked)\n",
    "masked = mobile[-2:] #  index slicing from right to left or last to first\n",
    "print(masked)\n"
   ]
  },
  {
   "cell_type": "code",
   "execution_count": 21,
   "id": "0516697b-03dc-4042-b69d-0ee3ae49c1bf",
   "metadata": {},
   "outputs": [
    {
     "name": "stdout",
     "output_type": "stream",
     "text": [
      "80******13\n"
     ]
    }
   ],
   "source": [
    "# Printing masked mobile number\n",
    "# mobile\n",
    "mobile = \"8088558813\"\n",
    "masked = mobile[:2] + \"******\" + mobile[-2:]\n",
    "print(masked)"
   ]
  },
  {
   "cell_type": "code",
   "execution_count": 22,
   "id": "062b0319-e123-45ca-b9d8-e4e71924b5dc",
   "metadata": {},
   "outputs": [
    {
     "name": "stdout",
     "output_type": "stream",
     "text": [
      "Kolar\n",
      "UB12345\n"
     ]
    }
   ],
   "source": [
    "location = \"Bengaluru\"\n",
    "fixed_location = location.replace(\"Bengaluru\",\"Kolar\")\n",
    "print(fixed_location)\n",
    "\n",
    "message = \"your uber booking id is: UB12345.Please keep it safe\"\n",
    "booking_id = message.split(\":\")[1].split(\".\")[0].strip() # printing exact UB12345 using split function And using (:) and (.) delimeter\n",
    "print(booking_id)"
   ]
  },
  {
   "cell_type": "code",
   "execution_count": 23,
   "id": "1f8dc18b-9c00-4e91-a619-78bbc7001da2",
   "metadata": {},
   "outputs": [
    {
     "name": "stdout",
     "output_type": "stream",
     "text": [
      " zomoto100 \n"
     ]
    }
   ],
   "source": [
    "# Extracting coupon in the text\n",
    "promo_msg = \"use zomoto100 to get 100 off on your first order\"\n",
    "extracted = promo_msg.split(\"to get\")[0].split(\"use\")[1]\n",
    "print(extracted)"
   ]
  },
  {
   "cell_type": "code",
   "execution_count": 24,
   "id": "b8f2e3a2-37d5-4565-ab12-25c13cb96ae3",
   "metadata": {},
   "outputs": [
    {
     "name": "stdout",
     "output_type": "stream",
     "text": [
      "Coupon applied\n"
     ]
    }
   ],
   "source": [
    "# Extracting coupon in the text by if else statement\n",
    "promo_msg = \"use zomoto100 to get 100 off on your first order\"\n",
    "\n",
    "if \"zomoto100\" in promo_msg:\n",
    "    print(\"Coupon applied\")\n",
    "else:\n",
    "    print(\"Coupon not applied\")"
   ]
  },
  {
   "cell_type": "code",
   "execution_count": 25,
   "id": "838053e3-337a-4408-9e9e-d10c5761eca1",
   "metadata": {},
   "outputs": [
    {
     "name": "stdout",
     "output_type": "stream",
     "text": [
      "The position is: 16\n"
     ]
    }
   ],
   "source": [
    "# Finding exact position in the string\n",
    "feedback = \" The driver was polite and ride was smooth\"\n",
    "print(\"The position is:\", feedback.find(\"polite\"))"
   ]
  },
  {
   "cell_type": "code",
   "execution_count": 26,
   "id": "1afc6bd2-d525-4b8c-bc34-0fd56d598f7b",
   "metadata": {},
   "outputs": [
    {
     "name": "stdout",
     "output_type": "stream",
     "text": [
      "SB\n"
     ]
    }
   ],
   "source": [
    "name = \"sanjaya babu\"\n",
    "initials = \"\".join([word[0].upper() for word in name.split()])\n",
    "print(initials)"
   ]
  },
  {
   "cell_type": "code",
   "execution_count": 27,
   "id": "f1425ab5-9cfe-412e-a6b7-10b6f007ba79",
   "metadata": {},
   "outputs": [
    {
     "name": "stdout",
     "output_type": "stream",
     "text": [
      "sanajay\n"
     ]
    }
   ],
   "source": [
    "# Removing white spaces\n",
    "dirty_input = \"   sanajay   \"\n",
    "clean = dirty_input.strip()\n",
    "print(clean)"
   ]
  },
  {
   "cell_type": "code",
   "execution_count": 28,
   "id": "80e182cb-7539-4510-b67d-0a5445b5c2f2",
   "metadata": {},
   "outputs": [
    {
     "name": "stdout",
     "output_type": "stream",
     "text": [
      "9\n"
     ]
    }
   ],
   "source": [
    "# Printing word count in the string\n",
    "word = \"the trip was amazing and the car was clean\"\n",
    "word_count = len(word.split()) # we are split funtion for removing the white space\n",
    "print(word_count)"
   ]
  },
  {
   "cell_type": "markdown",
   "id": "9f13db94-db06-4336-892f-d83a8b3e2ae5",
   "metadata": {},
   "source": [
    "CONDITIONAL STATEMENT"
   ]
  },
  {
   "cell_type": "code",
   "execution_count": 29,
   "id": "972f9dc2-6699-4df5-8410-1bac76157955",
   "metadata": {},
   "outputs": [
    {
     "name": "stdout",
     "output_type": "stream",
     "text": [
      "You can't vote\n"
     ]
    }
   ],
   "source": [
    "# if else statement\n",
    "age = 3\n",
    "if age >= 18:\n",
    "    print(\"You can vote\")\n",
    "else:\n",
    "    print(\"You can't vote\")"
   ]
  },
  {
   "cell_type": "code",
   "execution_count": 30,
   "id": "42b3c999-5455-4863-a4ea-adefba885ce4",
   "metadata": {},
   "outputs": [
    {
     "name": "stdout",
     "output_type": "stream",
     "text": [
      "Invalid marks\n"
     ]
    }
   ],
   "source": [
    "# Grading by using if else statement\n",
    "\n",
    "marks = -3\n",
    "\n",
    "if marks >= 100 or marks <0:\n",
    "    print(\"Invalid marks\")\n",
    "\n",
    "elif marks >= 90:\n",
    "    print(\"Grade A\")\n",
    "elif marks >=70:\n",
    "    print(\"Grade B\")\n",
    "elif marks >= 50:\n",
    "    print(\"Grade C\")\n",
    "\n",
    "else:\n",
    "    print(\"fail\")\n"
   ]
  },
  {
   "cell_type": "markdown",
   "id": "6d32fa33-f1e5-4404-853b-45b3c31c0842",
   "metadata": {},
   "source": [
    "NESTED IF"
   ]
  },
  {
   "cell_type": "code",
   "execution_count": 31,
   "id": "eca67045-3a7b-402e-a8cb-85609bdb93a0",
   "metadata": {},
   "outputs": [
    {
     "name": "stdout",
     "output_type": "stream",
     "text": [
      "You can drive\n"
     ]
    }
   ],
   "source": [
    "age = 18\n",
    "has_licsense =\"yes\"\n",
    "\n",
    "if age >= 18:\n",
    "    if has_licsense == \"yes\":\n",
    "         print(\"You can drive\")\n",
    "    else:\n",
    "         print(\"Go and take license\")\n",
    "else:\n",
    "     print(\"You are too young to drive\")\n",
    "        "
   ]
  },
  {
   "cell_type": "markdown",
   "id": "8c8f2208-5a7b-437d-b43e-7aebe6b3d35f",
   "metadata": {},
   "source": [
    "USING AND, OR IN if else statement"
   ]
  },
  {
   "cell_type": "code",
   "execution_count": 32,
   "id": "895f192f-f4d8-43dc-b3f4-6bd8e3e5884b",
   "metadata": {},
   "outputs": [
    {
     "ename": "NameError",
     "evalue": "name 'mark' is not defined",
     "output_type": "error",
     "traceback": [
      "\u001b[1;31m---------------------------------------------------------------------------\u001b[0m",
      "\u001b[1;31mNameError\u001b[0m                                 Traceback (most recent call last)",
      "Cell \u001b[1;32mIn[32], line 4\u001b[0m\n\u001b[0;32m      2\u001b[0m mark0 \u001b[38;5;241m=\u001b[39m \u001b[38;5;241m20\u001b[39m\n\u001b[0;32m      3\u001b[0m attendance \u001b[38;5;241m=\u001b[39m \u001b[38;5;241m100\u001b[39m\n\u001b[1;32m----> 4\u001b[0m \u001b[38;5;28;01mif\u001b[39;00m mark \u001b[38;5;241m>\u001b[39m\u001b[38;5;241m=\u001b[39m\u001b[38;5;241m55\u001b[39m \u001b[38;5;129;01mor\u001b[39;00m attendance \u001b[38;5;241m>\u001b[39m\u001b[38;5;241m=\u001b[39m\u001b[38;5;241m70\u001b[39m:\n\u001b[0;32m      5\u001b[0m     \u001b[38;5;28mprint\u001b[39m(\u001b[38;5;124m\"\u001b[39m\u001b[38;5;124mFirst if\u001b[39m\u001b[38;5;124m'\u001b[39m\u001b[38;5;124ms o/p:- Allowed for exam (Using logical OR so in both condition one of condition must be true)\u001b[39m\u001b[38;5;124m\"\u001b[39m)\n\u001b[0;32m      6\u001b[0m \u001b[38;5;28;01melse\u001b[39;00m:\n",
      "\u001b[1;31mNameError\u001b[0m: name 'mark' is not defined"
     ]
    }
   ],
   "source": [
    "# Using OR opertor\n",
    "mark0 = 20\n",
    "attendance = 100\n",
    "if mark >=55 or attendance >=70:\n",
    "    print(\"First if's o/p:- Allowed for exam (Using logical OR so in both condition one of condition must be true)\")\n",
    "else:\n",
    "    print(\"Not allowed ()\")\n",
    "\n",
    "# Using AND operator\n",
    "mark1 = 20\n",
    "attendance = 100\n",
    "if mark1 >=55 and attendance >=70:\n",
    "    print(\"Allowed for exam \")\n",
    "else:\n",
    "    print(\"Second if's o/p:- Not allowed (Using logical and so both condition must be true)\")"
   ]
  },
  {
   "cell_type": "code",
   "execution_count": null,
   "id": "1f69b73b-2e6f-4c83-888f-de62030afc73",
   "metadata": {},
   "outputs": [],
   "source": [
    "# With discount\n",
    "order_amount = 1000\n",
    "days = \"sat\"\n",
    "membership = \"no\"\n",
    "\n",
    "if (order_amount >= 1000 and days in[\"sat\",\"sun\"]) or membership == \"gold\":\n",
    "    print(\"20% discount\")\n",
    "else:\n",
    "    print(\"no discount\")\n",
    "    \n",
    "\n"
   ]
  },
  {
   "cell_type": "code",
   "execution_count": null,
   "id": "87d6ef47-6b8c-4763-bc84-ecee66d58fc5",
   "metadata": {},
   "outputs": [],
   "source": [
    "# Without discount, non of the conditions satisfied \n",
    "order_amount = 1000\n",
    "days = \"mon\"\n",
    "membership = \"no\"\n",
    "\n",
    "if (order_amount >= 1000 and days in[\"sat\",\"sun\"]) or membership == \"gold\":\n",
    "    print(\"20% discount\")\n",
    "else:\n",
    "    print(\"no discount\")\n",
    "    "
   ]
  },
  {
   "cell_type": "markdown",
   "id": "d2afb741-1442-41d9-86aa-08e49b6c76ba",
   "metadata": {},
   "source": [
    "FOR LOOP "
   ]
  },
  {
   "cell_type": "code",
   "execution_count": 33,
   "id": "0bca5629-ecd0-4f94-a016-4c52bf5be0b0",
   "metadata": {},
   "outputs": [
    {
     "name": "stdout",
     "output_type": "stream",
     "text": [
      "SARVANA\n",
      "GOWTHAM\n",
      "NANDINI\n",
      "NILA\n",
      "RAHUL\n"
     ]
    }
   ],
   "source": [
    "names = [\"sarvana\",\"gowtham\",\"nandini\",\"nila\",\"rahul\"]\n",
    "\n",
    "for test in names:\n",
    "    print(test.upper())\n",
    "    "
   ]
  },
  {
   "cell_type": "markdown",
   "id": "599ddb7c-cae0-44d2-abf6-6cd39768aeee",
   "metadata": {},
   "source": [
    "WHILE LOOP"
   ]
  },
  {
   "cell_type": "code",
   "execution_count": 34,
   "id": "4d94de5e-d07b-4a51-aa2a-0ce0929e0e01",
   "metadata": {},
   "outputs": [
    {
     "name": "stdin",
     "output_type": "stream",
     "text": [
      "Enter your correct pin 1234\n"
     ]
    },
    {
     "name": "stdout",
     "output_type": "stream",
     "text": [
      "acess granted\n"
     ]
    }
   ],
   "source": [
    "correct_pin = \"1234\"\n",
    "entered_pin = \"\"\n",
    "\n",
    "while entered_pin != correct_pin:\n",
    "    entered_pin = input(\"Enter your correct pin\")\n",
    "print(\"acess granted\")\n",
    "    "
   ]
  },
  {
   "cell_type": "markdown",
   "id": "18986292-c710-414b-b9a2-251e75b2849e",
   "metadata": {},
   "source": [
    "BREAK STATEMENT"
   ]
  },
  {
   "cell_type": "code",
   "execution_count": 35,
   "id": "49a8af32-e5d9-4370-92e9-e98892194d92",
   "metadata": {},
   "outputs": [
    {
     "name": "stdout",
     "output_type": "stream",
     "text": [
      "0\n",
      "1\n",
      "2\n",
      "3\n",
      "4\n"
     ]
    }
   ],
   "source": [
    "for i in range(10):\n",
    "    if i==5:\n",
    "        break\n",
    "    print(i)"
   ]
  },
  {
   "cell_type": "markdown",
   "id": "36f506c9-25db-463c-9ec3-c37dae0ba95d",
   "metadata": {},
   "source": [
    "CONTINUE STATEMENT"
   ]
  },
  {
   "cell_type": "code",
   "execution_count": 36,
   "id": "818f6c5d-c2c1-4d83-9d1b-77a6522930dc",
   "metadata": {},
   "outputs": [
    {
     "name": "stdout",
     "output_type": "stream",
     "text": [
      "10\n",
      "7\n",
      "11\n"
     ]
    }
   ],
   "source": [
    "n = [10,-5,7,-9,11]\n",
    "\n",
    "for num in n:\n",
    "    if num <0:\n",
    "        continue\n",
    "    print(num)\n"
   ]
  },
  {
   "cell_type": "markdown",
   "id": "0209cf5d-c2e9-42b6-a9f3-76f1c731c773",
   "metadata": {},
   "source": [
    "PASS STATEMENT "
   ]
  },
  {
   "cell_type": "code",
   "execution_count": 37,
   "id": "f4fb0673-fdca-46ca-80e9-bbec2303e8ca",
   "metadata": {},
   "outputs": [],
   "source": [
    "n = [10,-5,7,-9,11]\n",
    "\n",
    "for num in n:\n",
    "    pass # Future logic implementation "
   ]
  },
  {
   "cell_type": "code",
   "execution_count": 38,
   "id": "3a2a624c-8aa5-47dc-a64e-484c2bb4adcf",
   "metadata": {},
   "outputs": [
    {
     "name": "stdout",
     "output_type": "stream",
     "text": [
      "Countdown: 5\n",
      "Countdown: 4\n",
      "Countdown: 3\n",
      "Countdown: 2\n",
      "Countdown: 1\n",
      "Time is up!\n"
     ]
    }
   ],
   "source": [
    "# Timer code logic\n",
    "count = 5 \n",
    "\n",
    "while count >0:\n",
    "    print(f\"Countdown: {count}\")\n",
    "    count -= 1\n",
    "print(\"Time is up!\")"
   ]
  },
  {
   "cell_type": "code",
   "execution_count": 39,
   "id": "d728cedb-39a1-4941-8885-70da4cfe0f87",
   "metadata": {},
   "outputs": [
    {
     "name": "stdin",
     "output_type": "stream",
     "text": [
      "Add item (type 'done' to finish):  done\n"
     ]
    },
    {
     "name": "stdout",
     "output_type": "stream",
     "text": [
      "Items in cart: []\n"
     ]
    }
   ],
   "source": [
    "items = []\n",
    "\n",
    "while True:\n",
    "    item = input(\"Add item (type 'done' to finish): \")\n",
    "    if item.lower() == \"done\":\n",
    "        break\n",
    "    items.append(item)\n",
    "print(\"Items in cart:\", items)"
   ]
  },
  {
   "cell_type": "markdown",
   "id": "09e25c94-b59f-418f-b64d-6984bfbf7a30",
   "metadata": {},
   "source": [
    "DIFFERENCES BETWEEN        FUNCTIONS    AND     METHOD"
   ]
  },
  {
   "cell_type": "code",
   "execution_count": 40,
   "id": "5d730498-0f0b-45cd-84e6-9e6e8a8d9d11",
   "metadata": {},
   "outputs": [],
   "source": [
    "# Syntax\n",
    "def function_name():\n",
    "    #code logic\n",
    "    pass"
   ]
  },
  {
   "cell_type": "code",
   "execution_count": 41,
   "id": "bf87d091-aff7-4ce4-830b-9ebf450b7c76",
   "metadata": {},
   "outputs": [
    {
     "name": "stdout",
     "output_type": "stream",
     "text": [
      "Hello Sanjaya babu, welcome\n"
     ]
    }
   ],
   "source": [
    "# Defining  a function with name parameter and calling the function\n",
    "\n",
    "def greet(name):\n",
    "    print(f\"Hello {name}, welcome\")\n",
    "\n",
    "greet(\"Sanjaya babu\")"
   ]
  },
  {
   "cell_type": "markdown",
   "id": "cb00d0d1-8bf3-4b40-8ed3-7df021834051",
   "metadata": {},
   "source": [
    "# Function with return argument"
   ]
  },
  {
   "cell_type": "code",
   "execution_count": 42,
   "id": "572f3bb3-8e6f-4fb0-86f6-2676c4316026",
   "metadata": {},
   "outputs": [
    {
     "name": "stdout",
     "output_type": "stream",
     "text": [
      "8\n"
     ]
    }
   ],
   "source": [
    "# Function with return argument\n",
    "\n",
    "def add(a,b): # ---> Two parameter\n",
    "    return a+b\n",
    "result = add(2,6)# ---> Giving two arguments \n",
    "print(result)"
   ]
  },
  {
   "cell_type": "markdown",
   "id": "d2ea29d3-2596-4e5f-841c-a31f129cb803",
   "metadata": {},
   "source": [
    "STAR ARGS-----------> *args usage"
   ]
  },
  {
   "cell_type": "code",
   "execution_count": 44,
   "id": "cb4e9f33-fd24-4afe-8f2d-d60cc8852768",
   "metadata": {},
   "outputs": [
    {
     "name": "stdout",
     "output_type": "stream",
     "text": [
      "5\n"
     ]
    }
   ],
   "source": [
    "# *args means accept multiple arguments\n",
    "\n",
    "def add(*args):\n",
    "    total = 0 # variable \n",
    "    for num in args: # assigns args values to for loop num variable\n",
    "        total += num # adding each digits\n",
    "        # 0+= 1\n",
    "        # 1+= 2\n",
    "        # 3+= 2\n",
    "        # 5\n",
    "    return total # returning the total\n",
    "    \n",
    "print(add(1,2,2))"
   ]
  },
  {
   "cell_type": "markdown",
   "id": "1682c696-5fc9-49f2-9695-c5792f8a8708",
   "metadata": {},
   "source": [
    " KW ARGS ----------------->  **kwargs"
   ]
  },
  {
   "cell_type": "code",
   "execution_count": 45,
   "id": "e3eb0e3b-a781-4c6c-8c61-aa6c4a9c63a6",
   "metadata": {},
   "outputs": [
    {
     "name": "stdout",
     "output_type": "stream",
     "text": [
      "User profile\n",
      "name :Sanjaya babu\n",
      "age :33\n",
      "job :data scientist\n"
     ]
    }
   ],
   "source": [
    "# **kwargs is used to store key value pairs\n",
    "\n",
    "def create_profile(**kwargs):\n",
    "    print(\"User profile\")\n",
    "\n",
    "    for key, value in kwargs.items():\n",
    "        print(f\"{key} :{value}\")\n",
    "\n",
    "create_profile(name=\"Sanjaya babu\",age=33 , job=\"data scientist\") # i/p of key value pairs"
   ]
  },
  {
   "cell_type": "markdown",
   "id": "1dac28cf-45c3-4a0a-9c55-3b969bb60369",
   "metadata": {},
   "source": [
    "LISTS IN PYTHON------------> [] -----> square brackets "
   ]
  },
  {
   "cell_type": "code",
   "execution_count": 46,
   "id": "a83a4d06-c3eb-4276-bb28-2560cc370101",
   "metadata": {},
   "outputs": [
    {
     "name": "stdout",
     "output_type": "stream",
     "text": [
      "after append ['Shape orf you', 'Naa Ready', 'Believer', 'Tum Hi Ho', 'oo antava']\n",
      "after insert ['Shape orf you', 'Jinke marina', 'Naa Ready', 'Believer', 'Tum Hi Ho', 'oo antava']\n",
      "After removing ['Shape orf you', 'Jinke marina', 'Believer', 'Tum Hi Ho', 'oo antava']\n",
      "After pop ['Shape orf you', 'Jinke marina', 'Believer', 'Tum Hi Ho']\n",
      "After reverse ['Tum Hi Ho', 'Believer', 'Jinke marina', 'Shape orf you']\n",
      "Count 1\n",
      "Top 2 songs ['Tum Hi Ho', 'Believer']\n",
      "last 2 locations ['Work', 'Mall']\n",
      "All food: PIZZA\n",
      "All food: BURGER\n",
      "All food: DOSA\n",
      "All food: BIRIYANI\n",
      "Tum Hi Ho: Song By Sanjay\n",
      "Believer: Song By Sanjay\n",
      "Jinke marina: Song By Sanjay\n",
      "Shape orf you: Song By Sanjay\n",
      "yes\n",
      "Sanjay\n",
      "23\n",
      "1.76\n",
      "location 0:Home\n",
      "location 1:Airport\n",
      "location 2:Work\n",
      "location 3:Mall\n"
     ]
    }
   ],
   "source": [
    "# list is mutable\n",
    "# list is index based\n",
    "# It will accept multiple datatypes\n",
    "# It maintains order by using index\n",
    "\n",
    "# Creating lists for apps\n",
    "\n",
    "playlist = [\"Shape orf you\", \"Naa Ready\", \"Believer\", \"Tum Hi Ho\"]  # Jio saaven\n",
    "favorite_food = [\"Pizza\", \"Burger\", \"Dosa\", \"Biriyani\"] # Zomoto\n",
    "recent_locations = [\"Home\", \"Airport\", \"Work\", \"Mall\"] #Uber\n",
    "\n",
    "#print(\"Jio saaven:\", playlist)\n",
    "#print(\"Zomoto Foods:\", favorite_food)\n",
    "#print(\"Uber Locations:\", recent_locations)\n",
    "\n",
    "# litst methods\n",
    "\n",
    "playlist.append(\"oo antava\") # append()\n",
    "print(\"after append\", playlist)\n",
    "\n",
    "playlist.insert(1,\"Jinke marina\") # insert() with index value by 1\n",
    "print(\"after insert\", playlist)\n",
    "\n",
    "playlist.remove(\"Naa Ready\") # removes specific given value\n",
    "print(\"After removing\", playlist)\n",
    "\n",
    "playlist.pop() # removes the last element \n",
    "print(\"After pop\", playlist)\n",
    "\n",
    "playlist.reverse() # revrse the values\n",
    "print(\"After reverse\", playlist)\n",
    "\n",
    "print(\"Count\", playlist.count(\"Believer\"))\n",
    "\n",
    "# List slicing\n",
    "\n",
    "print(\"Top 2 songs\", playlist[0:2]) # prints 0th and 1st index values\n",
    "\n",
    "print(\"last 2 locations\",recent_locations[-2:]) #last index slicing\n",
    "\n",
    "# List iteration\n",
    "\n",
    "for food in favorite_food:\n",
    "    print(\"All food:\", food.upper()) # iterating the list with upper()\n",
    "for song in playlist:\n",
    "    print(song+ \": Song By Sanjay\")\n",
    "\n",
    "# check if\n",
    "\n",
    "if \"Dosa\" in favorite_food:\n",
    "    print(\"yes\")\n",
    "\n",
    "# Mixed datatype\n",
    "\n",
    "mixed =[\"Sanjay\", 23,1.76]\n",
    "\n",
    "for a in mixed:\n",
    "    print(a)\n",
    "\n",
    "# enumerate function \n",
    "\n",
    "for i,location in enumerate(recent_locations):\n",
    "    print(f\"location {i}:{location}\")"
   ]
  },
  {
   "cell_type": "markdown",
   "id": "4ee7cd8f-46f6-4b03-928d-e7076a074ff9",
   "metadata": {},
   "source": [
    "TUPLES "
   ]
  },
  {
   "cell_type": "code",
   "execution_count": 63,
   "id": "f4af9b25-dd83-490a-8236-84bbd715d5ec",
   "metadata": {},
   "outputs": [
    {
     "name": "stdout",
     "output_type": "stream",
     "text": [
      "('ubergo', 'Bengaluru', 'airport', 450.0, 'completed')\n",
      "Access by index: Bengaluru\n",
      "ubergo\n",
      "Bengaluru\n",
      "airport\n",
      "450.0\n",
      "completed\n",
      "Length of tuple: 5\n",
      "1\n",
      "2\n"
     ]
    }
   ],
   "source": [
    "# Tuples are immutable \n",
    "# It can accept multiple datatypes\n",
    "# Allows duplicate \n",
    "# List store elements by position\n",
    "# It is ordered collections\n",
    "# Read only\n",
    "\n",
    "trip_summary = (\"ubergo\", \"Bengaluru\", \"airport\", 450.00, \"completed\")\n",
    "print(trip_suumary)\n",
    "\n",
    "# access by index\n",
    "print(\"Access by index:\", trip_summary[1])\n",
    "\n",
    "# for loop\n",
    "\n",
    "for item in trip_summary:\n",
    "    print(item)\n",
    "\n",
    "# length of tuple\n",
    "\n",
    "print(\"Length of tuple:\", len(trip_summary))\n",
    "\n",
    "# count ------> means it show how that value occurs in tuple\n",
    "\n",
    "print(trip_summary.count(\"completed\"))\n",
    "\n",
    "# index ------> means it will return the position values of item in a tuple\n",
    "\n",
    "print(trip_summary.index(\"airport\")) \n"
   ]
  },
  {
   "cell_type": "markdown",
   "id": "fee12878-be0f-452e-9265-c3927b7c160e",
   "metadata": {},
   "source": [
    "SETS "
   ]
  },
  {
   "cell_type": "code",
   "execution_count": 73,
   "id": "63c7f99c-89dd-4049-a655-ee9cad4e5d2a",
   "metadata": {},
   "outputs": [
    {
     "name": "stdout",
     "output_type": "stream",
     "text": [
      "{1, 2, 3, 4, 5}\n",
      "{3}\n",
      "{1, 2}\n",
      "{'Chennai', 'Bangalore'}\n",
      "{'chennai', 'mumbai', 'Hyderabad', 'delhi', 'banglore'}\n",
      "{'banglore'}\n",
      "{'chennai', 'mumbai'}\n",
      "{'chennai', 'mumbai', 'karur', 'banglore'}\n",
      "{'chennai', 'karur', 'banglore'}\n",
      "{1, 2, 3}\n",
      "{1, 2, 3}\n"
     ]
    }
   ],
   "source": [
    "#No Duplicates Allowed\n",
    "#A set automatically removes duplicate elements.\n",
    "#Unordered Collection\n",
    "#Supports Mathematical Operations\n",
    "a = {1, 2, 3}\n",
    "b = {3, 4, 5}\n",
    "print(a | b)   # Union -> {1, 2, 3, 4, 5}\n",
    "print(a & b)   # Intersection -> {3}\n",
    "print(a - b)   # Difference -> {1, 2}\n",
    "\n",
    "\n",
    "# Removing the duplicate\n",
    "\n",
    "uber_cites = [\"Chennai\",\"Bangalore\", \"Chennai\", \"Bangalore\"]\n",
    "\n",
    "unique_cities = set(uber_cites ) # inbuilt funtion that removes duplicate elements\n",
    "\n",
    "print(unique_cities)\n",
    "\n",
    "# Union  and Intersection operaton\n",
    "\n",
    "uber_cities1 = {\"chennai\",\"mumbai\",\"banglore\"}\n",
    "uber_cities2 = {\"banglore\",\"delhi\",\"Hyderabad\"}\n",
    "\n",
    "print(uber_cities1.union(uber_cities2)) # union adding both sets without duplicate \n",
    "print(uber_cities1.intersection(uber_cities2)) # intersection------> common element \n",
    "print(uber_cities1.difference(uber_cities2)) # This will print all elements that are in uber_cities1 but not in uber_cities2.\n",
    "\n",
    "# Add and remove\n",
    "\n",
    "uber_cities1.add(\"karur\")\n",
    "print(uber_cities1)\n",
    "\n",
    "uber_cities1.remove(\"mumbai\")\n",
    "print(uber_cities1)\n",
    "\n",
    "# discard funtion\n",
    "\n",
    "my_set = {1,2,3}\n",
    "print(my_set)\n",
    "my_set.discard(8) # safe remove without keyError\n",
    "print(my_set)\n",
    "\n"
   ]
  },
  {
   "cell_type": "markdown",
   "id": "6cdae74b-999c-4d74-93e6-570d5e9896d9",
   "metadata": {},
   "source": [
    "DICTIONARY "
   ]
  },
  {
   "cell_type": "code",
   "execution_count": 91,
   "id": "86306572-9cf9-4017-a2af-5baf6723e062",
   "metadata": {},
   "outputs": [
    {
     "ename": "SyntaxError",
     "evalue": "invalid syntax. Perhaps you forgot a comma? (3373278721.py, line 11)",
     "output_type": "error",
     "traceback": [
      "\u001b[1;36m  Cell \u001b[1;32mIn[91], line 11\u001b[1;36m\u001b[0m\n\u001b[1;33m    \"drop\": [\"Airport\",\"Kolar\",\"Hosakote\"]\u001b[0m\n\u001b[1;37m            ^\u001b[0m\n\u001b[1;31mSyntaxError\u001b[0m\u001b[1;31m:\u001b[0m invalid syntax. Perhaps you forgot a comma?\n"
     ]
    }
   ],
   "source": [
    "#Key value pairs \n",
    "#Stores Data as Key–Value Pairs\n",
    "#Keys Must Be Unique and Immutable\n",
    "#Fast Lookups and Updates\n",
    "# One key can contain multiple values by using list-----> loc = [\"Bengaluru\",\"chennai\",\"mumbai\"] \n",
    "#Dictionaries are implemented using hash tables, so retrieving, inserting, or updating values using keys is very fast (on average O(1) time)\n",
    "\n",
    "trip = {\n",
    "    \"trip_id\": \"UB12345\",\n",
    "    \"pickup\": \"Bengaluru Richmond circle\",\n",
    "    \"drop\": [\"Airport\",\"Kolar\",\"Hosakote\"]\n",
    "    \"fare\": \"1299.00\",\n",
    "    \"driver\": \"Ravi\",\n",
    "    \"status\": \"Completed\"\n",
    "}\n",
    "\n",
    "# print the value using key\n",
    "\n",
    "print(trip[\"pickup\"])\n",
    "\n",
    "# get method\n",
    "\n",
    "print(trip.get(\"pickup\"))\n",
    "print(trip.get(\"Airport\")) # accessing key that doesn't exist so it will return None\n",
    "print(trip.keys()) # returns all keys\n",
    "print(trip.values()) # returns all values\n",
    "\n",
    "\n",
    "# Update\n",
    "\n",
    "trip.update({\"car_model\":\"suzuki\"})\n",
    "\n",
    "# for loop\n",
    "\n",
    "for key, value in trip.items():\n",
    "    print(key,\":\",value)\n",
    "\n",
    "\n",
    "for location in trip[\"drop\"]:\n",
    "    print(location)\n",
    "    # pop funcyion removes the last element\n",
    "\n"
   ]
  },
  {
   "cell_type": "code",
   "execution_count": null,
   "id": "170bd350-a528-416b-803f-0fc3c9d1b6ed",
   "metadata": {},
   "outputs": [],
   "source": []
  }
 ],
 "metadata": {
  "kernelspec": {
   "display_name": "Python 3 (ipykernel)",
   "language": "python",
   "name": "python3"
  },
  "language_info": {
   "codemirror_mode": {
    "name": "ipython",
    "version": 3
   },
   "file_extension": ".py",
   "mimetype": "text/x-python",
   "name": "python",
   "nbconvert_exporter": "python",
   "pygments_lexer": "ipython3",
   "version": "3.12.7"
  }
 },
 "nbformat": 4,
 "nbformat_minor": 5
}
